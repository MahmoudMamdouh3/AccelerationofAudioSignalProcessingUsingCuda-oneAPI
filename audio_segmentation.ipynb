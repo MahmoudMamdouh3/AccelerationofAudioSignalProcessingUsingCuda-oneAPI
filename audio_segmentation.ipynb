{
 "cells": [
  {
   "cell_type": "code",
   "execution_count": 44,
   "metadata": {},
   "outputs": [],
   "source": [
    "import os\n",
    "import math\n",
    "import time\n",
    "import concurrent.futures\n",
    "import multiprocessing\n",
    "from tqdm import tqdm  # Importing tqdm for progress bar\n",
    "from pydub import AudioSegment  # Import pydub for handling MP3, WAV, FLAC\n",
    "SUPPORTED_AUDIO_FORMATS = ['.mp3', '.wav', '.flac']\n"
   ]
  },
  {
   "cell_type": "code",
   "execution_count": 45,
   "metadata": {},
   "outputs": [],
   "source": [
    "def process_audio_file(audio_file, input_directory, output_directory):\n",
    "    # Your logic to process each audio file\n",
    "    input_file_path = os.path.join(input_directory, audio_file)\n",
    "    audio = AudioSegment.from_file(input_file_path)\n",
    "    \n",
    "    # Example: Chopping the audio into 10-minute chunks\n",
    "    chunk_length_ms = 10 * 60 * 1000  # 10 minutes in milliseconds\n",
    "    audio_length = len(audio)\n",
    "    chunks = [audio[i:i+chunk_length_ms] for i in range(0, audio_length, chunk_length_ms)]\n",
    "    \n",
    "    # Saving chunks\n",
    "    for i, chunk in enumerate(chunks):\n",
    "        output_file_path = os.path.join(output_directory, f\"{audio_file}_chunk_{i}.wav\")\n",
    "        chunk.export(output_file_path, format=\"wav\")\n"
   ]
  },
  {
   "cell_type": "code",
   "execution_count": 46,
   "metadata": {},
   "outputs": [],
   "source": [
    "# 1. Sequential Approach\n",
    "def chop_audio_sequential(input_directory, output_directory):\n",
    "    start_time = time.time()\n",
    "    audio_files = [f for f in os.listdir(input_directory) if any(f.endswith(ext) for ext in SUPPORTED_AUDIO_FORMATS)]\n",
    "\n",
    "    for audio_file in tqdm(audio_files, desc=\"Processing Sequential\", unit=\"file\"):\n",
    "        process_audio_file(audio_file, input_directory, output_directory)\n",
    "\n",
    "    end_time = time.time()\n",
    "    total_time = end_time - start_time\n",
    "    return total_time, len(audio_files)\n"
   ]
  },
  {
   "cell_type": "code",
   "execution_count": 47,
   "metadata": {},
   "outputs": [],
   "source": [
    "# 2. Multithreaded Approach\n",
    "def chop_audio_threading(input_directory, output_directory):\n",
    "    start_time = time.time()\n",
    "    audio_files = [f for f in os.listdir(input_directory) if any(f.endswith(ext) for ext in SUPPORTED_AUDIO_FORMATS)]\n",
    "\n",
    "    with concurrent.futures.ThreadPoolExecutor() as executor:\n",
    "        for _ in tqdm(executor.map(lambda audio_file: process_audio_file(audio_file, input_directory, output_directory), audio_files), \n",
    "                      desc=\"Processing Threading\", unit=\"file\", total=len(audio_files)):\n",
    "            pass\n",
    "\n",
    "    end_time = time.time()\n",
    "    total_time = end_time - start_time\n",
    "    return total_time, len(audio_files)"
   ]
  },
  {
   "cell_type": "code",
   "execution_count": 48,
   "metadata": {},
   "outputs": [],
   "source": [
    "def chop_audio_multiprocessing(input_directory, output_directory):\n",
    "    audio_files = [f for f in os.listdir(input_directory) if any(f.endswith(ext) for ext in SUPPORTED_AUDIO_FORMATS)]\n",
    "    \n",
    "    start_time = time.time()\n",
    "\n",
    "    with multiprocessing.Pool() as pool:\n",
    "        # Use map instead of imap for easier handling with tqdm\n",
    "        list(tqdm(pool.starmap(process_audio_file, [(audio_file, input_directory, output_directory) for audio_file in audio_files]),\n",
    "                  desc=\"Processing Multiprocessing\", unit=\"file\", total=len(audio_files)))\n",
    "    \n",
    "    end_time = time.time()\n",
    "    return end_time - start_time, None\n",
    "\n"
   ]
  },
  {
   "cell_type": "code",
   "execution_count": 1,
   "metadata": {},
   "outputs": [],
   "source": []
  },
  {
   "cell_type": "code",
   "execution_count": 2,
   "metadata": {},
   "outputs": [
    {
     "ename": "NameError",
     "evalue": "name 'chop_audio_sequential' is not defined",
     "output_type": "error",
     "traceback": [
      "\u001b[0;31m---------------------------------------------------------------------------\u001b[0m",
      "\u001b[0;31mNameError\u001b[0m                                 Traceback (most recent call last)",
      "Cell \u001b[0;32mIn[2], line 17\u001b[0m\n\u001b[1;32m     14\u001b[0m num_processors \u001b[38;5;241m=\u001b[39m os\u001b[38;5;241m.\u001b[39mcpu_count()\n\u001b[1;32m     16\u001b[0m \u001b[38;5;66;03m# Sequential Approach\u001b[39;00m\n\u001b[0;32m---> 17\u001b[0m sequential_time, total_files \u001b[38;5;241m=\u001b[39m \u001b[43mchop_audio_sequential\u001b[49m(input_directory, output_directory_sequential)\n\u001b[1;32m     19\u001b[0m \u001b[38;5;66;03m# Threading Approach\u001b[39;00m\n\u001b[1;32m     20\u001b[0m parallel_time_threading, _ \u001b[38;5;241m=\u001b[39m chop_audio_threading(input_directory, output_directory_threading)\n",
      "\u001b[0;31mNameError\u001b[0m: name 'chop_audio_sequential' is not defined"
     ]
    }
   ],
   "source": [
    "import os\n",
    "\n",
    "input_directory = \"/home/mahmoud/Desktop/Projects/parallelproject/pre processing /multiprocessing_output\"\n",
    "output_directory_sequential = \"/home/mahmoud/Desktop/Projects/parallelproject/segmenteddataset/segmentedseq_sequential\"\n",
    "output_directory_threading = \"/home/mahmoud/Desktop/Projects/parallelproject/segmenteddataset/segmentedseq_threading\"\n",
    "output_directory_multiprocessing = \"/home/mahmoud/Desktop/Projects/parallelproject/segmenteddataset/segmentedseq_multiprocessing\"\n",
    "\n",
    "# Create output directories if they do not exist\n",
    "os.makedirs(output_directory_sequential, exist_ok=True)\n",
    "os.makedirs(output_directory_threading, exist_ok=True)\n",
    "os.makedirs(output_directory_multiprocessing, exist_ok=True)\n",
    "\n",
    "# Get the number of CPU cores dynamically\n",
    "num_processors = os.cpu_count()\n",
    "\n",
    "# Sequential Approach\n",
    "sequential_time, total_files = chop_audio_sequential(input_directory, output_directory_sequential)\n",
    "\n",
    "# Threading Approach\n",
    "parallel_time_threading, _ = chop_audio_threading(input_directory, output_directory_threading)\n",
    "\n",
    "# Multiprocessing Approach\n",
    "parallel_time_multiprocessing, _ = chop_audio_multiprocessing(input_directory, output_directory_multiprocessing)\n",
    "\n",
    "# Calculate Metrics\n",
    "calculate_metrics(sequential_time, parallel_time_threading, parallel_time_multiprocessing, total_files, num_processors=num_processors)\n"
   ]
  }
 ],
 "metadata": {
  "kernelspec": {
   "display_name": "generalenv",
   "language": "python",
   "name": "python3"
  },
  "language_info": {
   "codemirror_mode": {
    "name": "ipython",
    "version": 3
   },
   "file_extension": ".py",
   "mimetype": "text/x-python",
   "name": "python",
   "nbconvert_exporter": "python",
   "pygments_lexer": "ipython3",
   "version": "3.12.3"
  }
 },
 "nbformat": 4,
 "nbformat_minor": 2
}
