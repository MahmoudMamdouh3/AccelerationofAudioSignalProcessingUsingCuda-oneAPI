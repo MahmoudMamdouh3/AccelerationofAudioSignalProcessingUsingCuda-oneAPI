{
 "cells": [
  {
   "cell_type": "code",
   "execution_count": 11,
   "metadata": {},
   "outputs": [],
   "source": [
    "# Parallel preprocessing for the data \n",
    "# we start by converting the mp4 files to mp3 files in parallel \n",
    "# using Python's concurrent.futures for multithreading or multiprocessing since it is a cpu bound tasks\n"
   ]
  },
  {
   "cell_type": "code",
   "execution_count": 12,
   "metadata": {},
   "outputs": [],
   "source": [
    "import os\n",
    "from pydub import AudioSegment\n",
    "from tqdm import tqdm\n",
    "import time\n",
    "from concurrent.futures import ThreadPoolExecutor, ProcessPoolExecutor\n"
   ]
  },
  {
   "cell_type": "code",
   "execution_count": 13,
   "metadata": {},
   "outputs": [],
   "source": [
    "input_directory = '/home/mahmoud/Desktop/Projects/parallelproject/rawdataset/drive-download-20241218T203725Z-001'"
   ]
  },
  {
   "cell_type": "code",
   "execution_count": 14,
   "metadata": {},
   "outputs": [
    {
     "name": "stderr",
     "output_type": "stream",
     "text": [
      "100%|██████████| 23/23 [06:40<00:00, 17.40s/it]"
     ]
    },
    {
     "name": "stdout",
     "output_type": "stream",
     "text": [
      "Sequential Conversion Completed. Time taken: 400.26 seconds.\n"
     ]
    },
    {
     "name": "stderr",
     "output_type": "stream",
     "text": [
      "\n"
     ]
    }
   ],
   "source": [
    "\n",
    "input_directory = '/home/mahmoud/Desktop/Projects/parallelproject/rawdataset/drive-download-20241218T203725Z-001'\n",
    "\n",
    "# Define output directory for sequential conversion\n",
    "output_directory_sequential = '/home/mahmoud/Desktop/Projects/parallelproject/pre processing /sequentialoutput'\n",
    "os.makedirs(output_directory_sequential, exist_ok=True)\n",
    "\n",
    "# Function for Sequential Conversion\n",
    "def convert_to_mp3_sequential(video_path):\n",
    "    \"\"\"Converts a video file to MP3 (sequential approach).\"\"\"\n",
    "    base_name = os.path.splitext(os.path.basename(video_path))[0]\n",
    "    output_file = os.path.join(output_directory_sequential, f\"{base_name}.mp3\")\n",
    "    try:\n",
    "        audio = AudioSegment.from_file(video_path)\n",
    "        audio.export(output_file, format=\"mp3\")\n",
    "        return f\"Converted: {video_path} -> {output_file}\"\n",
    "    except Exception as e:\n",
    "        return f\"Failed to convert {video_path}: {str(e)}\"\n",
    "\n",
    "# Function to process sequential conversion\n",
    "def sequential_conversion():\n",
    "    # Gather all video files\n",
    "    video_files = []\n",
    "    for root, _, files in os.walk(input_directory):\n",
    "        for file in files:\n",
    "            if file.endswith((\".mp4\", \".mkv\", \".avi\", \".mov\")):\n",
    "                video_files.append(os.path.join(root, file))\n",
    "\n",
    "    # Sequential conversion\n",
    "    start_time = time.time()\n",
    "    sequential_results = []\n",
    "    for video_file in tqdm(video_files, total=len(video_files)):\n",
    "        sequential_results.append(convert_to_mp3_sequential(video_file))\n",
    "    sequential_time = time.time() - start_time\n",
    "\n",
    "    return sequential_time, sequential_results\n",
    "\n",
    "# Run Sequential Conversion\n",
    "sequential_time, sequential_result = sequential_conversion()\n",
    "print(f'Sequential Conversion Completed. Time taken: {sequential_time:.2f} seconds.')\n"
   ]
  },
  {
   "cell_type": "code",
   "execution_count": 15,
   "metadata": {},
   "outputs": [
    {
     "name": "stderr",
     "output_type": "stream",
     "text": [
      "  0%|          | 0/23 [00:00<?, ?it/s]"
     ]
    },
    {
     "name": "stderr",
     "output_type": "stream",
     "text": [
      "100%|██████████| 23/23 [00:54<00:00,  2.36s/it]\n"
     ]
    },
    {
     "name": "stdout",
     "output_type": "stream",
     "text": [
      "Parallel Conversion (Threading) Completed. Time taken: 54.47 seconds.\n"
     ]
    }
   ],
   "source": [
    "import os\n",
    "import time\n",
    "from concurrent.futures import ThreadPoolExecutor\n",
    "from pydub import AudioSegment\n",
    "from tqdm import tqdm\n",
    "\n",
    "# Input directory\n",
    "input_directory = '/home/mahmoud/Desktop/Projects/parallelproject/rawdataset/drive-download-20241218T203725Z-001'\n",
    "\n",
    "# Set up output directory\n",
    "output_directory = '/home/mahmoud/Desktop/Projects/parallelproject/pre processing /multithreadedoutput'  # Folder for multithreading output\n",
    "os.makedirs(output_directory, exist_ok=True)\n",
    "\n",
    "# Function for Parallel Conversion (Multithreading)\n",
    "def convert_to_mp3_parallel(video_path):\n",
    "    \"\"\"Converts a video file to MP3 (parallel approach using multithreading).\"\"\"\n",
    "    base_name = os.path.splitext(os.path.basename(video_path))[0]\n",
    "    output_file = os.path.join(output_directory, f\"{base_name}.mp3\")\n",
    "    try:\n",
    "        audio = AudioSegment.from_file(video_path)\n",
    "        audio.export(output_file, format=\"mp3\")\n",
    "        return f\"Converted: {video_path} -> {output_file}\"\n",
    "    except Exception as e:\n",
    "        return f\"Failed to convert {video_path}: {str(e)}\"\n",
    "\n",
    "# Function to process parallel conversion using multithreading\n",
    "def parallel_conversion_threading():\n",
    "    # Gather all video files\n",
    "    video_files = []\n",
    "    for root, _, files in os.walk(input_directory):\n",
    "        for file in files:\n",
    "            if file.endswith((\".mp4\", \".mkv\", \".avi\", \".mov\")):\n",
    "                video_files.append(os.path.join(root, file))\n",
    "\n",
    "    # Parallel conversion using multithreading\n",
    "    start_time = time.time()\n",
    "    results = []\n",
    "    with ThreadPoolExecutor() as executor:\n",
    "        for result in tqdm(executor.map(convert_to_mp3_parallel, video_files), total=len(video_files)):\n",
    "            results.append(result)\n",
    "    parallel_time_threading = time.time() - start_time\n",
    "\n",
    "    return parallel_time_threading, results\n",
    "\n",
    "# Run Parallel Conversion (Multithreading)\n",
    "parallel_time_threading, parallel_result_threading = parallel_conversion_threading()\n",
    "print(f'Parallel Conversion (Threading) Completed. Time taken: {parallel_time_threading:.2f} seconds.')\n"
   ]
  },
  {
   "cell_type": "code",
   "execution_count": 16,
   "metadata": {},
   "outputs": [
    {
     "name": "stderr",
     "output_type": "stream",
     "text": [
      "100%|██████████| 23/23 [00:58<00:00,  2.53s/it]"
     ]
    },
    {
     "name": "stdout",
     "output_type": "stream",
     "text": [
      "Parallel Conversion (Multiprocessing) Completed. Time taken: 58.36 seconds.\n"
     ]
    },
    {
     "name": "stderr",
     "output_type": "stream",
     "text": [
      "\n"
     ]
    }
   ],
   "source": [
    "from concurrent.futures import ProcessPoolExecutor\n",
    "import os\n",
    "from pydub import AudioSegment\n",
    "from tqdm import tqdm\n",
    "import time\n",
    "\n",
    "input_directory = '/home/mahmoud/Desktop/Projects/parallelproject/rawdataset/drive-download-20241218T203725Z-001'\n",
    "\n",
    "# Define output directory for multiprocessing (use absolute path)\n",
    "output_directory_multiprocessing = '/home/mahmoud/Desktop/Projects/parallelproject/multiprocessing_output'\n",
    "os.makedirs(output_directory_multiprocessing, exist_ok=True)\n",
    "\n",
    "# Function for Parallel Conversion (Multiprocessing)\n",
    "def convert_to_mp3_multiprocessing(video_path):\n",
    "    \"\"\"Converts a video file to MP3 (parallel approach using multiprocessing).\"\"\"\n",
    "    base_name = os.path.splitext(os.path.basename(video_path))[0]\n",
    "    output_file = os.path.join(output_directory_multiprocessing, f\"{base_name}.mp3\")\n",
    "    try:\n",
    "        audio = AudioSegment.from_file(video_path)\n",
    "        audio.export(output_file, format=\"mp3\")\n",
    "        return f\"Converted: {video_path} -> {output_file}\"\n",
    "    except Exception as e:\n",
    "        return f\"Failed to convert {video_path}: {str(e)}\"\n",
    "\n",
    "# Function to process parallel conversion using multiprocessing\n",
    "def parallel_conversion_multiprocessing():\n",
    "    # Gather all video files\n",
    "    video_files = []\n",
    "    for root, _, files in os.walk(input_directory):\n",
    "        for file in files:\n",
    "            if file.endswith((\".mp4\", \".mkv\", \".avi\", \".mov\")):\n",
    "                video_files.append(os.path.join(root, file))\n",
    "\n",
    "    # Parallel conversion using multiprocessing\n",
    "    start_time = time.time()\n",
    "    results = []\n",
    "    with ProcessPoolExecutor(max_workers=os.cpu_count()) as executor:  # Using max_workers based on CPU count\n",
    "        for result in tqdm(executor.map(convert_to_mp3_multiprocessing, video_files), total=len(video_files)):\n",
    "            results.append(result)\n",
    "    parallel_time_multiprocessing = time.time() - start_time\n",
    "\n",
    "    return parallel_time_multiprocessing, results\n",
    "\n",
    "# Run Parallel Conversion (Multiprocessing)\n",
    "parallel_time_multiprocessing, parallel_result_multiprocessing = parallel_conversion_multiprocessing()\n",
    "print(f'Parallel Conversion (Multiprocessing) Completed. Time taken: {parallel_time_multiprocessing:.2f} seconds.')\n"
   ]
  },
  {
   "cell_type": "code",
   "execution_count": 19,
   "metadata": {},
   "outputs": [],
   "source": [
    "import os\n",
    "\n",
    "def calculate_metrics(sequential_time, parallel_time_threading, parallel_time_multiprocessing):\n",
    "    # Get the number of processors\n",
    "    num_processors = os.cpu_count()\n",
    "\n",
    "    # Throughput and Latency\n",
    "    num_tasks = len(sequential_result)  # number of tasks (audio files)\n",
    "\n",
    "    if num_tasks == 0:\n",
    "        print(\"No tasks to process.\")\n",
    "        return\n",
    "\n",
    "    throughput_sequential = num_tasks / sequential_time\n",
    "    throughput_threading = num_tasks / parallel_time_threading\n",
    "    throughput_multiprocessing = num_tasks / parallel_time_multiprocessing\n",
    "\n",
    "    latency_sequential = sequential_time / num_tasks\n",
    "    latency_threading = parallel_time_threading / num_tasks\n",
    "    latency_multiprocessing = parallel_time_multiprocessing / num_tasks\n",
    "\n",
    "    # Efficiency and Speedup\n",
    "    speedup_threading = sequential_time / parallel_time_threading\n",
    "    efficiency_threading = speedup_threading / num_processors * 100  # Corrected to percentage\n",
    "\n",
    "    speedup_multiprocessing = sequential_time / parallel_time_multiprocessing\n",
    "    efficiency_multiprocessing = speedup_multiprocessing / num_processors * 100  # Corrected to percentage\n",
    "\n",
    "    # Convert times to seconds and milliseconds\n",
    "    sequential_time_seconds = sequential_time\n",
    "    parallel_time_threading_seconds = parallel_time_threading\n",
    "    parallel_time_multiprocessing_seconds = parallel_time_multiprocessing\n",
    "\n",
    "    sequential_time_ms = sequential_time * 1000\n",
    "    parallel_time_threading_ms = parallel_time_threading * 1000\n",
    "    parallel_time_multiprocessing_ms = parallel_time_multiprocessing * 1000\n",
    "\n",
    "    # Print Metrics\n",
    "    print(f'Average Sequential Time: {sequential_time_seconds:.2f} seconds ({sequential_time_ms:.2f} ms)')\n",
    "    print(f'Average Parallel Time (Threading): {parallel_time_threading_seconds:.2f} seconds ({parallel_time_threading_ms:.2f} ms)')\n",
    "    print(f'Average Parallel Time (Multiprocessing): {parallel_time_multiprocessing_seconds:.2f} seconds ({parallel_time_multiprocessing_ms:.2f} ms)')\n",
    "\n",
    "    print(f'Throughput (Sequential): {throughput_sequential:.2f} tasks/s')\n",
    "    print(f'Throughput (Threading): {throughput_threading:.2f} tasks/s')\n",
    "    print(f'Throughput (Multiprocessing): {throughput_multiprocessing:.2f} tasks/s')\n",
    "\n",
    "    print(f'Latency (Sequential): {latency_sequential:.4f} seconds/task ({latency_sequential * 1000:.2f} ms/task)')\n",
    "    print(f'Latency (Threading): {latency_threading:.4f} seconds/task ({latency_threading * 1000:.2f} ms/task)')\n",
    "    print(f'Latency (Multiprocessing): {latency_multiprocessing:.4f} seconds/task ({latency_multiprocessing * 1000:.2f} ms/task)')\n",
    "\n",
    "    print(f'Speedup (Threading): {speedup_threading:.2f}')\n",
    "    print(f'Efficiency (Threading): {efficiency_threading:.2f}%')\n",
    "\n",
    "    print(f'Speedup (Multiprocessing): {speedup_multiprocessing:.2f}')\n",
    "    print(f'Efficiency (Multiprocessing): {efficiency_multiprocessing:.2f}%')\n",
    "\n",
    "    # Verify Results\n",
    "    if sorted([os.path.basename(x) for x in sequential_result]) != sorted([os.path.basename(x) for x in parallel_result_threading]) or sorted([os.path.basename(x) for x in sequential_result]) != sorted([os.path.basename(x) for x in parallel_result_multiprocessing]):\n",
    "        raise Exception('Results from sequential and parallel approaches do not match.')\n",
    "\n",
    "    print('All conversions completed successfully.')\n"
   ]
  },
  {
   "cell_type": "markdown",
   "metadata": {},
   "source": []
  },
  {
   "cell_type": "code",
   "execution_count": 20,
   "metadata": {},
   "outputs": [
    {
     "name": "stdout",
     "output_type": "stream",
     "text": [
      "Average Sequential Time: 400.26 seconds (400255.76 ms)\n",
      "Average Parallel Time (Threading): 54.47 seconds (54467.99 ms)\n",
      "Average Parallel Time (Multiprocessing): 58.36 seconds (58361.94 ms)\n",
      "Throughput (Sequential): 0.06 tasks/s\n",
      "Throughput (Threading): 0.42 tasks/s\n",
      "Throughput (Multiprocessing): 0.39 tasks/s\n",
      "Latency (Sequential): 17.4024 seconds/task (17402.42 ms/task)\n",
      "Latency (Threading): 2.3682 seconds/task (2368.17 ms/task)\n",
      "Latency (Multiprocessing): 2.5375 seconds/task (2537.48 ms/task)\n",
      "Speedup (Threading): 7.35\n",
      "Efficiency (Threading): 36.74%\n",
      "Speedup (Multiprocessing): 6.86\n",
      "Efficiency (Multiprocessing): 34.29%\n",
      "All conversions completed successfully.\n"
     ]
    }
   ],
   "source": [
    "calculate_metrics(sequential_time, parallel_time_threading, parallel_time_multiprocessing)\n"
   ]
  },
  {
   "cell_type": "markdown",
   "metadata": {},
   "source": []
  }
 ],
 "metadata": {
  "kernelspec": {
   "display_name": "generalenv",
   "language": "python",
   "name": "python3"
  },
  "language_info": {
   "codemirror_mode": {
    "name": "ipython",
    "version": 3
   },
   "file_extension": ".py",
   "mimetype": "text/x-python",
   "name": "python",
   "nbconvert_exporter": "python",
   "pygments_lexer": "ipython3",
   "version": "3.12.3"
  }
 },
 "nbformat": 4,
 "nbformat_minor": 2
}
